{
 "cells": [
  {
   "cell_type": "code",
   "execution_count": 36,
   "metadata": {},
   "outputs": [],
   "source": [
    "import os\n",
    "import nltk\n",
    "import pandas\n",
    "import re"
   ]
  },
  {
   "cell_type": "markdown",
   "metadata": {},
   "source": [
    "### Read Data"
   ]
  },
  {
   "cell_type": "code",
   "execution_count": 37,
   "metadata": {},
   "outputs": [],
   "source": [
    "classDict = {'neg': 0, 'pos': 1,'ntr': 2}\n",
    "label2id = []\n",
    "def read_File():\n",
    "    sentences = []\n",
    "    labels = []\n",
    "    scrip_dir = os.path.dirname(os.path.realpath('__file__'))\n",
    "    rel_path = \"data.txt\"\n",
    "    abs_file_path = os.path.join(scrip_dir, rel_path)\n",
    "    with open(abs_file_path, encoding='utf-8') as f:\n",
    "        for line in f:\n",
    "            word = line.split()\n",
    "            labels.append(word[0])\n",
    "            label2id.append(classDict[word[0]])\n",
    "            sentence = re.sub(word[0]+'\\t', '', line)\n",
    "            sentences.append(sentence)\n",
    "    print('read file complete')\n",
    "    \n",
    "    return sentences, labels"
   ]
  },
  {
   "cell_type": "code",
   "execution_count": 38,
   "metadata": {},
   "outputs": [
    {
     "name": "stdout",
     "output_type": "stream",
     "text": [
      "read file complete\n"
     ]
    }
   ],
   "source": [
    "sentences, labels = read_File()\n"
   ]
  },
  {
   "cell_type": "markdown",
   "metadata": {},
   "source": [
    "### Create pandas dataframe"
   ]
  },
  {
   "cell_type": "code",
   "execution_count": 39,
   "metadata": {},
   "outputs": [
    {
     "data": {
      "text/html": [
       "<div>\n",
       "<style scoped>\n",
       "    .dataframe tbody tr th:only-of-type {\n",
       "        vertical-align: middle;\n",
       "    }\n",
       "\n",
       "    .dataframe tbody tr th {\n",
       "        vertical-align: top;\n",
       "    }\n",
       "\n",
       "    .dataframe thead th {\n",
       "        text-align: right;\n",
       "    }\n",
       "</style>\n",
       "<table border=\"1\" class=\"dataframe\">\n",
       "  <thead>\n",
       "    <tr style=\"text-align: right;\">\n",
       "      <th></th>\n",
       "      <th>label</th>\n",
       "      <th>sentence</th>\n",
       "    </tr>\n",
       "  </thead>\n",
       "  <tbody>\n",
       "    <tr>\n",
       "      <th>0</th>\n",
       "      <td>pos</td>\n",
       "      <td>একজন বাংলাদেশী হিসাবে আমি গর্বিত । আরও গর্বিত ...</td>\n",
       "    </tr>\n",
       "    <tr>\n",
       "      <th>1</th>\n",
       "      <td>neg</td>\n",
       "      <td>কি বিচিত্র এই দেশ,   আর একজন ক্বারি ওবায়দুল্ল...</td>\n",
       "    </tr>\n",
       "    <tr>\n",
       "      <th>2</th>\n",
       "      <td>pos</td>\n",
       "      <td>আলহামদুলিল্লাহ একজন বাঙ্গালী হিসাবে গর্ব বোধ ক...</td>\n",
       "    </tr>\n",
       "    <tr>\n",
       "      <th>3</th>\n",
       "      <td>pos</td>\n",
       "      <td>অভিনন্দন তোমা‌কে মুস্তা‌ফিজ, তু‌মি এর উপযুক্ত...</td>\n",
       "    </tr>\n",
       "    <tr>\n",
       "      <th>4</th>\n",
       "      <td>pos</td>\n",
       "      <td>আলহামদুলিল্লাহ। অভিনন্দন সাতক্ষীরা বাসির অহংকা...</td>\n",
       "    </tr>\n",
       "  </tbody>\n",
       "</table>\n",
       "</div>"
      ],
      "text/plain": [
       "  label                                           sentence\n",
       "0   pos  একজন বাংলাদেশী হিসাবে আমি গর্বিত । আরও গর্বিত ...\n",
       "1   neg  কি বিচিত্র এই দেশ,   আর একজন ক্বারি ওবায়দুল্ল...\n",
       "2   pos  আলহামদুলিল্লাহ একজন বাঙ্গালী হিসাবে গর্ব বোধ ক...\n",
       "3   pos  অভিনন্দন তোমা‌কে মুস্তা‌ফিজ, তু‌মি এর উপযুক্ত...\n",
       "4   pos  আলহামদুলিল্লাহ। অভিনন্দন সাতক্ষীরা বাসির অহংকা..."
      ]
     },
     "execution_count": 39,
     "metadata": {},
     "output_type": "execute_result"
    }
   ],
   "source": [
    "import pandas as pd\n",
    "\n",
    "data = {'label': labels,\n",
    "        'sentence': sentences\n",
    "        }\n",
    "\n",
    "df = pd.DataFrame(data, columns = ['label', 'sentence'])\n",
    "\n",
    "df.head()"
   ]
  },
  {
   "cell_type": "code",
   "execution_count": 40,
   "metadata": {},
   "outputs": [
    {
     "data": {
      "text/html": [
       "<div>\n",
       "<style scoped>\n",
       "    .dataframe tbody tr th:only-of-type {\n",
       "        vertical-align: middle;\n",
       "    }\n",
       "\n",
       "    .dataframe tbody tr th {\n",
       "        vertical-align: top;\n",
       "    }\n",
       "\n",
       "    .dataframe thead th {\n",
       "        text-align: right;\n",
       "    }\n",
       "</style>\n",
       "<table border=\"1\" class=\"dataframe\">\n",
       "  <thead>\n",
       "    <tr style=\"text-align: right;\">\n",
       "      <th></th>\n",
       "      <th>label</th>\n",
       "      <th>sentence</th>\n",
       "    </tr>\n",
       "  </thead>\n",
       "  <tbody>\n",
       "    <tr>\n",
       "      <th>count</th>\n",
       "      <td>3438</td>\n",
       "      <td>3438</td>\n",
       "    </tr>\n",
       "    <tr>\n",
       "      <th>unique</th>\n",
       "      <td>3</td>\n",
       "      <td>2634</td>\n",
       "    </tr>\n",
       "    <tr>\n",
       "      <th>top</th>\n",
       "      <td>pos</td>\n",
       "      <td>pos আমি অত্যন্ত খুশি যে আমি আমার স্বপ্ন অর্জন ...</td>\n",
       "    </tr>\n",
       "    <tr>\n",
       "      <th>freq</th>\n",
       "      <td>1491</td>\n",
       "      <td>151</td>\n",
       "    </tr>\n",
       "  </tbody>\n",
       "</table>\n",
       "</div>"
      ],
      "text/plain": [
       "       label                                           sentence\n",
       "count   3438                                               3438\n",
       "unique     3                                               2634\n",
       "top      pos  pos আমি অত্যন্ত খুশি যে আমি আমার স্বপ্ন অর্জন ...\n",
       "freq    1491                                                151"
      ]
     },
     "execution_count": 40,
     "metadata": {},
     "output_type": "execute_result"
    }
   ],
   "source": [
    "df.describe(include='all')"
   ]
  },
  {
   "cell_type": "code",
   "execution_count": 41,
   "metadata": {},
   "outputs": [
    {
     "data": {
      "text/plain": [
       "<Axes: xlabel='label'>"
      ]
     },
     "execution_count": 41,
     "metadata": {},
     "output_type": "execute_result"
    },
    {
     "data": {
      "image/png": "[encoded data removed]",
      "text/plain": [
       "<Figure size 640x480 with 1 Axes>"
      ]
     },
     "metadata": {},
     "output_type": "display_data"
    }
   ],
   "source": [
    "df['label'].value_counts().plot(kind=\"bar\", rot=0)"
   ]
  },
  {
   "cell_type": "markdown",
   "metadata": {},
   "source": [
    "# Data cleaning"
   ]
  },
  {
   "cell_type": "code",
   "execution_count": 42,
   "metadata": {},
   "outputs": [],
   "source": [
    "def clean_sentence(sent):\n",
    "\n",
    "    sent = re.sub('[?.`*^()!°¢܌Ͱ̰ߒנ~×Ҡߘ:ҰߑÍ|।;!,&%\\'@#$><A-Za-z0+-9=./''\"\"_০-৯]', '', sent)\n",
    "    sent = re.sub(r'(\\W)(?=\\1)', '', sent)\n",
    "    sent = re.sub(r'https?:\\/\\/.*[\\r\\n]*', '', sent, flags=re.MULTILINE)\n",
    "    sent = re.sub(r'\\<a href', ' ', sent)\n",
    "    sent = re.sub(r'&amp;', '', sent) \n",
    "    sent = re.sub(r'<br />', ' ', sent)\n",
    "    sent = re.sub(r'\\'', ' ', sent)\n",
    "    sent = re.sub(r'ߑͰߑ̰ߒנ', '', sent)\n",
    "    sent = re.sub(r'ߎɰߎɰߎɍ', '', sent)\n",
    "    \n",
    "    sent = sent.strip()\n",
    "    return sent"
   ]
  },
  {
   "cell_type": "code",
   "execution_count": 43,
   "metadata": {},
   "outputs": [
    {
     "data": {
      "text/plain": [
       "'চোরের কাছ থেকে vat না নিয়ে ছাত্রদের কাছ থেকে  vat নিচ্ছে  এ কোন ধরনের বর্বরতা! সরকার বলেছেন শিখা হোলো মৌলিক অধিকার এই মৌলিক অধিকারে বাঘ বসালে মৌলিক অধিকার কোথায় থাকে!\\n'"
      ]
     },
     "execution_count": 43,
     "metadata": {},
     "output_type": "execute_result"
    }
   ],
   "source": [
    "df.loc[150,'sentence']"
   ]
  },
  {
   "cell_type": "code",
   "execution_count": 44,
   "metadata": {},
   "outputs": [],
   "source": [
    "for i, sent  in enumerate(df['sentence'].tolist()):\n",
    "    df.loc[i,'clean_sentence'] = clean_sentence(sent)"
   ]
  },
  {
   "cell_type": "code",
   "execution_count": 45,
   "metadata": {},
   "outputs": [
    {
     "data": {
      "text/plain": [
       "'চোরের কাছ থেকে না নিয়ে ছাত্রদের কাছ থেকে নিচ্ছে এ কোন ধরনের বর্বরতা সরকার বলেছেন শিখা হোলো মৌলিক অধিকার এই মৌলিক অধিকারে বাঘ বসালে মৌলিক অধিকার কোথায় থাকে'"
      ]
     },
     "execution_count": 45,
     "metadata": {},
     "output_type": "execute_result"
    }
   ],
   "source": [
    "test = df.loc[150,'clean_sentence']\n",
    "test"
   ]
  },
  {
   "cell_type": "markdown",
   "metadata": {},
   "source": [
    "### Tokenized Sentence"
   ]
  },
  {
   "cell_type": "code",
   "execution_count": 46,
   "metadata": {},
   "outputs": [],
   "source": [
    "def tokenized_data(sent):\n",
    "    tokenized_text = sent.split()\n",
    "    return tokenized_text"
   ]
  },
  {
   "cell_type": "markdown",
   "metadata": {},
   "source": [
    "### Remove stopwords"
   ]
  },
  {
   "cell_type": "code",
   "execution_count": 47,
   "metadata": {},
   "outputs": [],
   "source": [
    "stop_words = {'এ', 'হয়', 'কি', 'কী', 'এর', 'কে', 'যে', 'এই', 'বা', 'সব', 'টি', 'তা',\n",
    "       'সে', 'তাই', 'সেই', 'তার', 'আগে', 'যদি', 'আছে', 'আমি', 'এবং', 'করে', 'কার', 'এটি', 'হতে', 'যায়',\n",
    "       'আরও', 'যাক', 'খুব', 'উপর', 'পরে', 'হবে', 'কেন', 'কখন', 'সকল', 'হয়', 'ঠিক', 'একই', 'কোন',\n",
    "       'ছিল', 'খুবই', 'কোনো', 'অধীন', 'যারা', 'তারা', 'গুলি', 'তাকে', 'সেটা', 'সময়', 'আমার', 'আমরা', 'সবার',\n",
    "       'উভয়', 'একটা', 'আপনি', 'নিয়ে', 'একটি', 'বন্ধ', 'জন্য', 'শুধু', 'যেটা', 'উচিত', 'মাঝে', 'থেকে', 'করবে',\n",
    "       'আবার', 'উপরে', 'সেটি', 'কিছু', 'কারণ', 'যেমন', 'তিনি', 'মধ্যে', 'আমাকে', 'করছেন', 'তুলনা', 'তারপর',\n",
    "       'নিজেই', 'থাকার', 'নিজের', 'পারেন', 'একবার', 'সঙ্গে', 'ইচ্ছা', 'নীচের', 'এগুলো', 'আপনার', 'অধীনে', 'কিংবা',\n",
    "       'এখানে', 'তাহলে', 'কয়েক', 'জন্যে', 'হচ্ছে', 'তাদের', 'কোথায়', 'কিন্তু', 'নিজেকে', 'যতক্ষণ', 'আমাদের',\n",
    "       'দ্বারা', 'হয়েছে', ' সঙ্গে', 'সেখানে', 'কিভাবে', 'মাধ্যমে', 'নিজেদের', 'তুলনায়', 'প্রতিটি',\n",
    "       'তাদেরকে', 'ইত্যাদি', 'সম্পর্কে', 'সর্বাধিক', 'বিরুদ্ধে', 'অন্যান্য'}\n",
    "\n",
    "def remove_stop_words(text):\n",
    "    text = [w for w in text if not w in stop_words]\n",
    "    text = ' '.join(text)\n",
    "    return text"
   ]
  },
  {
   "cell_type": "code",
   "execution_count": 48,
   "metadata": {},
   "outputs": [
    {
     "name": "stdout",
     "output_type": "stream",
     "text": [
      "befor : চোরের কাছ থেকে না নিয়ে ছাত্রদের কাছ থেকে নিচ্ছে এ কোন ধরনের বর্বরতা সরকার বলেছেন শিখা হোলো মৌলিক অধিকার এই মৌলিক অধিকারে বাঘ বসালে মৌলিক অধিকার কোথায় থাকে\n",
      "after : চোরের কাছ না ছাত্রদের কাছ নিচ্ছে ধরনের বর্বরতা সরকার বলেছেন শিখা হোলো মৌলিক অধিকার মৌলিক অধিকারে বাঘ বসালে মৌলিক অধিকার কোথায় থাকে\n"
     ]
    }
   ],
   "source": [
    "t_data = tokenized_data(test)\n",
    "r_word = remove_stop_words(t_data)\n",
    "print('befor :', test)\n",
    "print('after :', r_word)"
   ]
  },
  {
   "cell_type": "code",
   "execution_count": 49,
   "metadata": {},
   "outputs": [],
   "source": [
    "df['clean_data'] = [remove_stop_words(tokenized_data(sent)) for sent in df['clean_sentence'].tolist()]\n",
    "#del df['sentence']\n",
    "df.to_csv('sentiment_analysis_clean_data.csv', encoding='utf-8', index=False)"
   ]
  },
  {
   "cell_type": "markdown",
   "metadata": {},
   "source": [
    "### Word to Vector transformation by ngram approch"
   ]
  },
  {
   "cell_type": "code",
   "execution_count": 50,
   "metadata": {},
   "outputs": [
    {
     "name": "stdout",
     "output_type": "stream",
     "text": [
      "42155\n"
     ]
    }
   ],
   "source": [
    "from sklearn.feature_extraction.text import CountVectorizer\n",
    "\n",
    "word_vectorizerGram = CountVectorizer(analyzer='word', ngram_range=(1, 2), min_df=1, lowercase=False,\n",
    "                                      token_pattern=u'[\\\\S]+', tokenizer=None)\n",
    "\n",
    "X = word_vectorizerGram.fit_transform(df['clean_sentence'])\n",
    "stpGram = word_vectorizerGram.get_feature_names_out()\n",
    "\n",
    "print(len(stpGram))\n"
   ]
  },
  {
   "cell_type": "code",
   "execution_count": 51,
   "metadata": {},
   "outputs": [
    {
     "name": "stdout",
     "output_type": "stream",
     "text": [
      "37289\n",
      "Sample of bigram: অংশটুকু ফাইন\n"
     ]
    }
   ],
   "source": [
    "from sklearn.feature_extraction.text import CountVectorizer\n",
    "\n",
    "word_vectorizerGram_rsw = CountVectorizer(analyzer='word', ngram_range=(1, 2), min_df=1, lowercase=False,\n",
    "                                          token_pattern=u'[\\\\S]+', tokenizer=None)\n",
    "\n",
    "X_rsw = word_vectorizerGram_rsw.fit_transform(df['clean_data'])\n",
    "stpGram_rsw = word_vectorizerGram_rsw.get_feature_names_out()\n",
    "\n",
    "print(len(stpGram_rsw))\n",
    "print('Sample of bigram:', stpGram_rsw[20])\n"
   ]
  },
  {
   "cell_type": "code",
   "execution_count": 52,
   "metadata": {},
   "outputs": [],
   "source": [
    "import numpy as np\n",
    "from sklearn.feature_extraction.text import CountVectorizer\n",
    "\n",
    "def sentence_to_vector_transform(line, stpGram):\n",
    "    # Create a CountVectorizer with the provided vocabulary (stpGram)\n",
    "    vec = CountVectorizer(analyzer='word', ngram_range=(1, 2), min_df=1, lowercase=False,\n",
    "                          token_pattern=u'[\\\\S]+', tokenizer=None, vocabulary=stpGram)\n",
    "    \n",
    "    # Transform the given sentence into a vector using the provided vocabulary\n",
    "    sent = vec.transform([line])\n",
    "    \n",
    "    # Convert the sparse matrix representation to a dense array\n",
    "    sent = sent.toarray()\n",
    "    \n",
    "    # Squeeze the array to remove single-dimensional entries\n",
    "    sent = np.squeeze(np.asarray(sent))\n",
    "    \n",
    "    return sent\n"
   ]
  },
  {
   "cell_type": "code",
   "execution_count": 53,
   "metadata": {},
   "outputs": [],
   "source": [
    "def sentence_to_vector(data, stpGram):\n",
    "    dataForSVM = []\n",
    "    colName = []\n",
    "    dataVec = []\n",
    "    dataVec.append(colName)\n",
    "    \n",
    "    for idx, sent in enumerate(data):\n",
    "        \n",
    "        sent = sentence_to_vector_transform(sent, stpGram)\n",
    "        sentLst = list(sent)\n",
    "        dtList = []\n",
    "        try:\n",
    "            dtList.append(label2id[idx])\n",
    "            dataForSVM.append(sent)\n",
    "        except:\n",
    "            print(idx)\n",
    "        for item in sentLst:\n",
    "            dtList.append(item)\n",
    "        lengthOfEV = len(dtList)\n",
    "        dataVec.append(dtList)\n",
    "        \n",
    "    return dataForSVM"
   ]
  },
  {
   "cell_type": "code",
   "execution_count": 54,
   "metadata": {},
   "outputs": [
    {
     "data": {
      "text/plain": [
       "[array([0, 0, 0, ..., 0, 0, 0], dtype=int64),\n",
       " array([0, 0, 0, ..., 0, 0, 0], dtype=int64),\n",
       " array([0, 0, 0, ..., 0, 0, 0], dtype=int64),\n",
       " array([0, 0, 0, ..., 0, 0, 0], dtype=int64)]"
      ]
     },
     "execution_count": 54,
     "metadata": {},
     "output_type": "execute_result"
    }
   ],
   "source": [
    "dataForSVM = sentence_to_vector(df['clean_data'], stpGram_rsw)\n",
    "dataForSVM[0:4]"
   ]
  },
  {
   "cell_type": "markdown",
   "metadata": {},
   "source": [
    "### Data split for training and testing"
   ]
  },
  {
   "cell_type": "code",
   "execution_count": 55,
   "metadata": {},
   "outputs": [],
   "source": [
    "from sklearn.model_selection import train_test_split\n",
    "\n",
    "X_train, X_test, y_train, y_test = train_test_split(dataForSVM, label2id, test_size=0.2, random_state=0)"
   ]
  },
  {
   "cell_type": "markdown",
   "metadata": {},
   "source": [
    "### Using SVM with different kernel"
   ]
  },
  {
   "cell_type": "code",
   "execution_count": 56,
   "metadata": {},
   "outputs": [],
   "source": [
    "from sklearn.svm import SVC\n",
    "C = 0.1  # SVM regularization parameter\n",
    "linear_svc = SVC(kernel='linear', C=C)\n",
    "linear_svc = linear_svc.fit(X_train, y_train)"
   ]
  },
  {
   "cell_type": "code",
   "execution_count": 57,
   "metadata": {},
   "outputs": [
    {
     "data": {
      "text/plain": [
       "['svc_model.sav']"
      ]
     },
     "execution_count": 57,
     "metadata": {},
     "output_type": "execute_result"
    }
   ],
   "source": [
    "import joblib\n",
    "\n",
    "filename = 'svc_model.sav'\n",
    "joblib.dump(linear_svc, filename)\n"
   ]
  },
  {
   "cell_type": "code",
   "execution_count": 58,
   "metadata": {},
   "outputs": [],
   "source": [
    "from sklearn import metrics\n",
    "from sklearn.metrics import confusion_matrix\n",
    "\n",
    "def calculate_accuracy(kernel, model):\n",
    "    y_pred = model.predict(X_test)\n",
    "    #print the accuracy score of the model\n",
    "    print(kernel + \" accuracy : \",metrics.accuracy_score(y_test, y_pred, normalize = True))\n",
    "    score = confusion_matrix(y_test, y_pred)\n",
    "    print('confusion_matrix: \\n', score)"
   ]
  },
  {
   "cell_type": "markdown",
   "metadata": {},
   "source": [
    "### Accuracy Testing\n"
   ]
  },
  {
   "cell_type": "code",
   "execution_count": 59,
   "metadata": {},
   "outputs": [],
   "source": [
    "from sklearn.metrics import classification_report\n",
    "\n",
    "def report(model):\n",
    "    # Fit the model to the training data\n",
    "    model.fit(X_train, y_train)\n",
    "    \n",
    "    # Predict the labels for the test data\n",
    "    y_pred = model.predict(X_test)\n",
    "    \n",
    "    # Generate the classification report\n",
    "    report = classification_report(y_test, y_pred, target_names=['Won', 'Loss', 'neutral'])\n",
    "    \n",
    "    # Print the classification report\n",
    "    print(report)\n"
   ]
  },
  {
   "cell_type": "code",
   "execution_count": 60,
   "metadata": {},
   "outputs": [
    {
     "name": "stdout",
     "output_type": "stream",
     "text": [
      "linear accuracy :  0.7906976744186046\n",
      "confusion_matrix: \n",
      " [[258  16   4]\n",
      " [ 45 247   3]\n",
      " [ 62  14  39]]\n",
      "              precision    recall  f1-score   support\n",
      "\n",
      "         Won       0.71      0.93      0.80       278\n",
      "        Loss       0.89      0.84      0.86       295\n",
      "     neutral       0.85      0.34      0.48       115\n",
      "\n",
      "    accuracy                           0.79       688\n",
      "   macro avg       0.82      0.70      0.72       688\n",
      "weighted avg       0.81      0.79      0.78       688\n",
      "\n"
     ]
    }
   ],
   "source": [
    "calculate_accuracy(kernel='linear', model=linear_svc)\n",
    "report(model=linear_svc)"
   ]
  },
  {
   "cell_type": "code",
   "execution_count": 61,
   "metadata": {},
   "outputs": [
    {
     "name": "stdout",
     "output_type": "stream",
     "text": [
      "rbf accuracy :  0.690406976744186\n",
      "confusion_matrix: \n",
      " [[272   5   1]\n",
      " [111 184   0]\n",
      " [ 91   5  19]]\n"
     ]
    }
   ],
   "source": [
    "rbf_svc = SVC(kernel='rbf', gamma=0.7, C=10)\n",
    "rbf_svc = rbf_svc.fit(X_train, y_train)\n",
    "calculate_accuracy(kernel='rbf', model=rbf_svc)\n",
    "report(model=rbf_svc)"
   ]
  },
  {
   "cell_type": "code",
   "execution_count": null,
   "metadata": {},
   "outputs": [],
   "source": [
    "poly_svc = SVC(kernel='poly', degree=3, C=100)\n",
    "poly_svc = poly_svc.fit(X_train, y_train)\n",
    "calculate_accuracy(kernel='poly', model=poly_svc)  # Corrected kernel name\n",
    "report(model=poly_svc)"
   ]
  },
  {
   "cell_type": "markdown",
   "metadata": {},
   "source": [
    "### ----USING RANDOM FOREST----"
   ]
  },
  {
   "cell_type": "code",
   "execution_count": null,
   "metadata": {},
   "outputs": [],
   "source": [
    "from sklearn.model_selection import train_test_split\n",
    "from sklearn.ensemble import RandomForestClassifier\n",
    "from sklearn.metrics import classification_report\n",
    "\n",
    "# Split the data into training and test sets\n",
    "X_train, X_test, y_train, y_test = train_test_split(dataForSVM, label2id, test_size=0.2, random_state=0)\n",
    "\n",
    "# Instantiate and train the Random Forest classifier\n",
    "random_forest = RandomForestClassifier(n_estimators=100, random_state=42)\n",
    "random_forest.fit(X_train, y_train)\n",
    "\n",
    "# Evaluate the model\n",
    "y_pred = random_forest.predict(X_test)\n",
    "print(classification_report(y_test, y_pred))\n"
   ]
  },
  {
   "cell_type": "code",
   "execution_count": null,
   "metadata": {},
   "outputs": [],
   "source": [
    "def calculate_accuracy(predictions, actual, modelName):\n",
    "    total = len(predictions)\n",
    "    idx = 0\n",
    "    error = 0\n",
    "    almostSame = 0\n",
    "    while idx < total:\n",
    "        if predictions[idx] != actual[idx]:\n",
    "            p = predictions[idx]\n",
    "            a = actual[idx]\n",
    "            # print('actual=',y_test[idx],'  predict=',predictions[idx])\n",
    "            if ((a == 0 or a == 1) and (p == 0 or p == 1)) or ((a == 3 or a == 4) and (p == 3 or p == 4)):\n",
    "                almostSame += 1\n",
    "            else:\n",
    "                error += 1\n",
    "        idx += 1\n",
    "    print('\\n', modelName, '\\n')\n",
    "    print(\"total=\", total)\n",
    "    print(\"error=\", error)\n",
    "    print(\"accuracy = \", ((total - error) * 100) / total)\n",
    "    print('almost same = ', almostSame)\n",
    "    print(\"actual accracy = \", ((total - error - almostSame) * 100) / total)"
   ]
  },
  {
   "cell_type": "code",
   "execution_count": null,
   "metadata": {},
   "outputs": [],
   "source": [
    "y_pred = linear_svc.predict(X_test)\n",
    "calculate_accuracy(y_pred, y_test, 'Linear')\n",
    "\n",
    "y_pred_rbf = rbf_svc.predict(X_test)\n",
    "calculate_accuracy(y_pred_rbf, y_test, 'rbf_svc')\n",
    "\n",
    "y_pred_poly = poly_svc.predict(X_test)\n",
    "calculate_accuracy(y_pred_poly, y_test, 'poly_svc')"
   ]
  },
  {
   "cell_type": "markdown",
   "metadata": {},
   "source": [
    "### ----ACCURACY ON UNSEEN DATA----"
   ]
  },
  {
   "cell_type": "code",
   "execution_count": null,
   "metadata": {},
   "outputs": [],
   "source": [
    "from sklearn.ensemble import AdaBoostClassifier\n",
    "\n",
    "lr_list = [0.05, 0.075, 0.1, 0.25, 0.5, 0.75, 1]\n",
    "\n",
    "for learning_rate in lr_list:\n",
    "\n",
    "    abc = AdaBoostClassifier(n_estimators=50,\n",
    "                         learning_rate=learning_rate)\n",
    "    \n",
    "    abc_model = abc.fit(X_train, y_train)\n",
    "    \n",
    "    print(\"Learning rate: \", learning_rate)\n",
    "    print(\"Accuracy score (training): {0:.3f}\".format(abc_model.score(X_train, y_train)))\n",
    "    print(\"Accuracy score (validation): {0:.3f}\".format(abc_model.score(X_test, y_test)))"
   ]
  },
  {
   "cell_type": "markdown",
   "metadata": {},
   "source": [
    "### ----OUTPUT----"
   ]
  },
  {
   "cell_type": "code",
   "execution_count": null,
   "metadata": {},
   "outputs": [],
   "source": [
    "sent = 'বাংলাদেশ একটি ভালো দেশ।'\n",
    "print(classDict)\n",
    "sent = clean_sentence(sent)\n",
    "sent2vec = sentence_to_vector_transform(sent, stpGram_rsw)\n",
    "sent_list = list()\n",
    "sent_list.append(sent2vec)\n",
    "\n",
    "loaded_model = joblib.load(filename)\n",
    "predictions = loaded_model.predict(sent_list)\n",
    "print(predictions)\n",
    "\n",
    "ans = \"\"\n",
    "for key, value in classDict.items():\n",
    "    if value == predictions[0]:\n",
    "        ans = key\n",
    "print(ans)"
   ]
  },
  {
   "cell_type": "code",
   "execution_count": null,
   "metadata": {},
   "outputs": [],
   "source": [
    "# তোমার মরা উচিত == you should die\n",
    "# আমি কালো মানুষের ঘৃণা == i hate black people\n",
    "# দয়া করে বাঁচবেন না == please dont live\n",
    "\n",
    "# বাংলা ভালো ভাষা == bangla is good language\n",
    "# বাংলাদেশ একটি ভালো দেশ। == bangladesh is good country\n",
    "# আমি সবাইকে ভালবাসি == i love everyone\n",
    "\n",
    "# আমি সবসময় হাসি। == i always smile \n",
    "# আমি পানি পান করি == i drink water\n",
    "# আমি একটা গান গাই। == i sing a song"
   ]
  }
 ],
 "metadata": {
  "kernelspec": {
   "display_name": "Python 3",
   "language": "python",
   "name": "python3"
  },
  "language_info": {
   "codemirror_mode": {
    "name": "ipython",
    "version": 3
   },
   "file_extension": ".py",
   "mimetype": "text/x-python",
   "name": "python",
   "nbconvert_exporter": "python",
   "pygments_lexer": "ipython3",
   "version": "3.12.1"
  }
 },
 "nbformat": 4,
 "nbformat_minor": 2
}
